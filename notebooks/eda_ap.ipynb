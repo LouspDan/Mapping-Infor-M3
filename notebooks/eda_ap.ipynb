{
 "cells": [
  {
   "cell_type": "code",
   "execution_count": 1,
   "id": "11f0da85-af58-47ee-90fa-84ea2d53b339",
   "metadata": {},
   "outputs": [],
   "source": [
    "import pandas as pd\n",
    "from sqlalchemy import create_engine\n",
    "import os\n",
    "from dotenv import load_dotenv\n",
    "import matplotlib.pyplot as plt\n",
    "df = pd.read_csv('../raw_data/AccountPayables.csv')"
   ]
  },
  {
   "cell_type": "code",
   "execution_count": 2,
   "id": "b8ed175a-b42b-49c2-be91-03af32b2892f",
   "metadata": {},
   "outputs": [
    {
     "name": "stdout",
     "output_type": "stream",
     "text": [
      "<class 'pandas.core.frame.DataFrame'>\n",
      "RangeIndex: 5 entries, 0 to 4\n",
      "Data columns (total 5 columns):\n",
      " #   Column         Non-Null Count  Dtype  \n",
      "---  ------         --------------  -----  \n",
      " 0   invoice_id     5 non-null      object \n",
      " 1   supplier_id    5 non-null      object \n",
      " 2   amount         5 non-null      float64\n",
      " 3   received_date  5 non-null      object \n",
      " 4   due_date       5 non-null      object \n",
      "dtypes: float64(1), object(4)\n",
      "memory usage: 332.0+ bytes\n"
     ]
    }
   ],
   "source": [
    "df.info()"
   ]
  },
  {
   "cell_type": "code",
   "execution_count": 8,
   "id": "ce80a011-75a9-4c9d-aa46-cc29981420a4",
   "metadata": {},
   "outputs": [
    {
     "data": {
      "text/html": [
       "<div>\n",
       "<style scoped>\n",
       "    .dataframe tbody tr th:only-of-type {\n",
       "        vertical-align: middle;\n",
       "    }\n",
       "\n",
       "    .dataframe tbody tr th {\n",
       "        vertical-align: top;\n",
       "    }\n",
       "\n",
       "    .dataframe thead th {\n",
       "        text-align: right;\n",
       "    }\n",
       "</style>\n",
       "<table border=\"1\" class=\"dataframe\">\n",
       "  <thead>\n",
       "    <tr style=\"text-align: right;\">\n",
       "      <th></th>\n",
       "      <th>amount</th>\n",
       "    </tr>\n",
       "  </thead>\n",
       "  <tbody>\n",
       "    <tr>\n",
       "      <th>count</th>\n",
       "      <td>5.000000</td>\n",
       "    </tr>\n",
       "    <tr>\n",
       "      <th>mean</th>\n",
       "      <td>1267.290000</td>\n",
       "    </tr>\n",
       "    <tr>\n",
       "      <th>std</th>\n",
       "      <td>626.915192</td>\n",
       "    </tr>\n",
       "    <tr>\n",
       "      <th>min</th>\n",
       "      <td>430.200000</td>\n",
       "    </tr>\n",
       "    <tr>\n",
       "      <th>25%</th>\n",
       "      <td>980.000000</td>\n",
       "    </tr>\n",
       "    <tr>\n",
       "      <th>50%</th>\n",
       "      <td>1250.500000</td>\n",
       "    </tr>\n",
       "    <tr>\n",
       "      <th>75%</th>\n",
       "      <td>1575.750000</td>\n",
       "    </tr>\n",
       "    <tr>\n",
       "      <th>max</th>\n",
       "      <td>2100.000000</td>\n",
       "    </tr>\n",
       "  </tbody>\n",
       "</table>\n",
       "</div>"
      ],
      "text/plain": [
       "            amount\n",
       "count     5.000000\n",
       "mean   1267.290000\n",
       "std     626.915192\n",
       "min     430.200000\n",
       "25%     980.000000\n",
       "50%    1250.500000\n",
       "75%    1575.750000\n",
       "max    2100.000000"
      ]
     },
     "execution_count": 8,
     "metadata": {},
     "output_type": "execute_result"
    }
   ],
   "source": [
    "df.describe()"
   ]
  },
  {
   "cell_type": "code",
   "execution_count": 9,
   "id": "3468b913-af5e-4134-853d-f4e30ad60621",
   "metadata": {},
   "outputs": [
    {
     "data": {
      "text/html": [
       "<div>\n",
       "<style scoped>\n",
       "    .dataframe tbody tr th:only-of-type {\n",
       "        vertical-align: middle;\n",
       "    }\n",
       "\n",
       "    .dataframe tbody tr th {\n",
       "        vertical-align: top;\n",
       "    }\n",
       "\n",
       "    .dataframe thead th {\n",
       "        text-align: right;\n",
       "    }\n",
       "</style>\n",
       "<table border=\"1\" class=\"dataframe\">\n",
       "  <thead>\n",
       "    <tr style=\"text-align: right;\">\n",
       "      <th></th>\n",
       "      <th>invoice_id</th>\n",
       "      <th>supplier_id</th>\n",
       "      <th>amount</th>\n",
       "      <th>received_date</th>\n",
       "      <th>due_date</th>\n",
       "    </tr>\n",
       "  </thead>\n",
       "  <tbody>\n",
       "    <tr>\n",
       "      <th>0</th>\n",
       "      <td>AP1001</td>\n",
       "      <td>SUP001</td>\n",
       "      <td>1250.50</td>\n",
       "      <td>2025-07-01</td>\n",
       "      <td>2025-07-31</td>\n",
       "    </tr>\n",
       "    <tr>\n",
       "      <th>1</th>\n",
       "      <td>AP1002</td>\n",
       "      <td>SUP002</td>\n",
       "      <td>980.00</td>\n",
       "      <td>2025-07-03</td>\n",
       "      <td>2025-08-02</td>\n",
       "    </tr>\n",
       "    <tr>\n",
       "      <th>2</th>\n",
       "      <td>AP1003</td>\n",
       "      <td>SUP003</td>\n",
       "      <td>1575.75</td>\n",
       "      <td>2025-07-05</td>\n",
       "      <td>2025-08-04</td>\n",
       "    </tr>\n",
       "    <tr>\n",
       "      <th>3</th>\n",
       "      <td>AP1004</td>\n",
       "      <td>SUP001</td>\n",
       "      <td>2100.00</td>\n",
       "      <td>2025-07-10</td>\n",
       "      <td>2025-08-09</td>\n",
       "    </tr>\n",
       "    <tr>\n",
       "      <th>4</th>\n",
       "      <td>AP1005</td>\n",
       "      <td>SUP004</td>\n",
       "      <td>430.20</td>\n",
       "      <td>2025-07-12</td>\n",
       "      <td>2025-08-11</td>\n",
       "    </tr>\n",
       "  </tbody>\n",
       "</table>\n",
       "</div>"
      ],
      "text/plain": [
       "  invoice_id supplier_id   amount received_date    due_date\n",
       "0     AP1001      SUP001  1250.50    2025-07-01  2025-07-31\n",
       "1     AP1002      SUP002   980.00    2025-07-03  2025-08-02\n",
       "2     AP1003      SUP003  1575.75    2025-07-05  2025-08-04\n",
       "3     AP1004      SUP001  2100.00    2025-07-10  2025-08-09\n",
       "4     AP1005      SUP004   430.20    2025-07-12  2025-08-11"
      ]
     },
     "execution_count": 9,
     "metadata": {},
     "output_type": "execute_result"
    }
   ],
   "source": [
    "df.head()"
   ]
  },
  {
   "cell_type": "code",
   "execution_count": 10,
   "id": "8c197043-93ae-4a9c-84b8-bf924674cc48",
   "metadata": {},
   "outputs": [
    {
     "data": {
      "text/html": [
       "<div>\n",
       "<style scoped>\n",
       "    .dataframe tbody tr th:only-of-type {\n",
       "        vertical-align: middle;\n",
       "    }\n",
       "\n",
       "    .dataframe tbody tr th {\n",
       "        vertical-align: top;\n",
       "    }\n",
       "\n",
       "    .dataframe thead th {\n",
       "        text-align: right;\n",
       "    }\n",
       "</style>\n",
       "<table border=\"1\" class=\"dataframe\">\n",
       "  <thead>\n",
       "    <tr style=\"text-align: right;\">\n",
       "      <th></th>\n",
       "      <th>invoice_id</th>\n",
       "      <th>supplier_id</th>\n",
       "      <th>amount</th>\n",
       "      <th>received_date</th>\n",
       "      <th>due_date</th>\n",
       "    </tr>\n",
       "  </thead>\n",
       "  <tbody>\n",
       "    <tr>\n",
       "      <th>0</th>\n",
       "      <td>AP1001</td>\n",
       "      <td>SUP001</td>\n",
       "      <td>1250.50</td>\n",
       "      <td>2025-07-01</td>\n",
       "      <td>2025-07-31</td>\n",
       "    </tr>\n",
       "    <tr>\n",
       "      <th>1</th>\n",
       "      <td>AP1002</td>\n",
       "      <td>SUP002</td>\n",
       "      <td>980.00</td>\n",
       "      <td>2025-07-03</td>\n",
       "      <td>2025-08-02</td>\n",
       "    </tr>\n",
       "    <tr>\n",
       "      <th>2</th>\n",
       "      <td>AP1003</td>\n",
       "      <td>SUP003</td>\n",
       "      <td>1575.75</td>\n",
       "      <td>2025-07-05</td>\n",
       "      <td>2025-08-04</td>\n",
       "    </tr>\n",
       "    <tr>\n",
       "      <th>3</th>\n",
       "      <td>AP1004</td>\n",
       "      <td>SUP001</td>\n",
       "      <td>2100.00</td>\n",
       "      <td>2025-07-10</td>\n",
       "      <td>2025-08-09</td>\n",
       "    </tr>\n",
       "    <tr>\n",
       "      <th>4</th>\n",
       "      <td>AP1005</td>\n",
       "      <td>SUP004</td>\n",
       "      <td>430.20</td>\n",
       "      <td>2025-07-12</td>\n",
       "      <td>2025-08-11</td>\n",
       "    </tr>\n",
       "  </tbody>\n",
       "</table>\n",
       "</div>"
      ],
      "text/plain": [
       "  invoice_id supplier_id   amount received_date    due_date\n",
       "0     AP1001      SUP001  1250.50    2025-07-01  2025-07-31\n",
       "1     AP1002      SUP002   980.00    2025-07-03  2025-08-02\n",
       "2     AP1003      SUP003  1575.75    2025-07-05  2025-08-04\n",
       "3     AP1004      SUP001  2100.00    2025-07-10  2025-08-09\n",
       "4     AP1005      SUP004   430.20    2025-07-12  2025-08-11"
      ]
     },
     "execution_count": 10,
     "metadata": {},
     "output_type": "execute_result"
    }
   ],
   "source": [
    "df.tail()"
   ]
  },
  {
   "cell_type": "code",
   "execution_count": 6,
   "id": "d38c6239-7d4c-423a-8ee1-00ebc3b3d6bc",
   "metadata": {},
   "outputs": [
    {
     "data": {
      "text/plain": [
       "invoice_id       0\n",
       "supplier_id      0\n",
       "amount           0\n",
       "received_date    0\n",
       "due_date         0\n",
       "dtype: int64"
      ]
     },
     "execution_count": 6,
     "metadata": {},
     "output_type": "execute_result"
    }
   ],
   "source": [
    "df.isna().sum()"
   ]
  },
  {
   "cell_type": "code",
   "execution_count": 12,
   "id": "beefae2f-c036-4b17-b6e1-9a29f00a23ab",
   "metadata": {},
   "outputs": [
    {
     "data": {
      "text/plain": [
       "np.int64(0)"
      ]
     },
     "execution_count": 12,
     "metadata": {},
     "output_type": "execute_result"
    }
   ],
   "source": [
    "df.duplicated().sum()  # lignes complètes en doublon\n",
    "df['invoice_id'].duplicated().sum()  # IDs factures en doublon"
   ]
  },
  {
   "cell_type": "code",
   "execution_count": 11,
   "id": "947d735c-3213-4735-aa6a-1dd274040994",
   "metadata": {},
   "outputs": [
    {
     "data": {
      "image/png": "[encoded data removed]",
      "text/plain": [
       "<Figure size 640x480 with 1 Axes>"
      ]
     },
     "metadata": {},
     "output_type": "display_data"
    }
   ],
   "source": [
    "#istribution des montants\n",
    "\n",
    "plt.hist(df['amount'], bins=30)\n",
    "plt.title(\"Distribution des montants\")\n",
    "plt.xlabel(\"Montant\")\n",
    "plt.ylabel(\"Fréquence\")\n",
    "plt.show()"
   ]
  },
  {
   "cell_type": "code",
   "execution_count": null,
   "id": "638078fe-37a8-4e31-9a33-83c02f13ac40",
   "metadata": {},
   "outputs": [],
   "source": []
  }
 ],
 "metadata": {
  "kernelspec": {
   "display_name": "Python 3 (ipykernel)",
   "language": "python",
   "name": "python3"
  },
  "language_info": {
   "codemirror_mode": {
    "name": "ipython",
    "version": 3
   },
   "file_extension": ".py",
   "mimetype": "text/x-python",
   "name": "python",
   "nbconvert_exporter": "python",
   "pygments_lexer": "ipython3",
   "version": "3.13.5"
  }
 },
 "nbformat": 4,
 "nbformat_minor": 5
}
